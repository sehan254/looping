{
 "cells": [
  {
   "cell_type": "code",
   "execution_count": 3,
   "id": "e920b4aa",
   "metadata": {},
   "outputs": [
    {
     "name": "stdout",
     "output_type": "stream",
     "text": [
      "1 2 3 4 5 6 7 8 9 10 "
     ]
    }
   ],
   "source": [
    "#mencetak angka 1-10\n",
    "\n",
    "for angka in range (1,11):\n",
    "    print (angka, end =\" \")"
   ]
  },
  {
   "cell_type": "code",
   "execution_count": 10,
   "id": "a2f9a45b",
   "metadata": {},
   "outputs": [
    {
     "name": "stdout",
     "output_type": "stream",
     "text": [
      "10 20 30 40 50 60 70 80 90 100 "
     ]
    }
   ],
   "source": [
    "for angka in range (1,11):\n",
    "    print (angka * 10,end =\" \")\n"
   ]
  },
  {
   "cell_type": "code",
   "execution_count": 9,
   "id": "858a850b",
   "metadata": {},
   "outputs": [
    {
     "name": "stdout",
     "output_type": "stream",
     "text": [
      "10 20 30 40 50 60 70 80 90 100 "
     ]
    }
   ],
   "source": [
    "for angka in range (10,101,10):\n",
    "    print (angka, end=\" \")"
   ]
  },
  {
   "cell_type": "code",
   "execution_count": 14,
   "id": "74638e68",
   "metadata": {},
   "outputs": [
    {
     "name": "stdout",
     "output_type": "stream",
     "text": [
      "10 9 8 7 6 5 4 3 2 1 "
     ]
    }
   ],
   "source": [
    "#mencetak angka mundur\n",
    "for j in range(1,11):\n",
    "    print(11 - j,end =\" \")"
   ]
  },
  {
   "cell_type": "code",
   "execution_count": 22,
   "id": "6303d547",
   "metadata": {},
   "outputs": [
    {
     "name": "stdout",
     "output_type": "stream",
     "text": [
      "1, -2, 3, -4, 5, -6, 7, -8, 9, -10, "
     ]
    }
   ],
   "source": [
    "#mencetak angka 1 -2 3 -4 5 -6...10\n",
    "sign = -1\n",
    "for angka in range (1,11):\n",
    "    sign = sign * -1\n",
    "    print (angka*sign, end =\", \")"
   ]
  },
  {
   "cell_type": "code",
   "execution_count": 34,
   "id": "2515e2ac",
   "metadata": {},
   "outputs": [
    {
     "name": "stdout",
     "output_type": "stream",
     "text": [
      "isikan bilangan; 5\n",
      "5! adalah 3125\n"
     ]
    }
   ],
   "source": [
    "#mencari  bilangan fucktorial\n",
    "#input = 4, output = 4 * 3 * 2 * 1 = 24\n",
    "\n",
    "bil = int(input('isikan bilangan; '))\n",
    "hasil=1\n",
    "\n",
    "for angka in range(1, bil+1):\n",
    "    hasil = hasil * bil\n",
    "    \n",
    "print(f\"{bil}! adalah {hasil}\")"
   ]
  },
  {
   "cell_type": "code",
   "execution_count": 37,
   "id": "2edd5bf8",
   "metadata": {},
   "outputs": [
    {
     "name": "stdout",
     "output_type": "stream",
     "text": [
      "isikan angka: 5\n",
      "5! adalah 120\n",
      "5 * 4 * 3 * 2 * 1 = 120\n"
     ]
    }
   ],
   "source": [
    "bil = int(input('isikan angka: '))\n",
    "\n",
    "hasil = 1\n",
    "label = \"\"\n",
    "for i in range (1, bil+1):\n",
    "    hasil = hasil * i\n",
    "    if i < bil:\n",
    "        label = label + str((bil+1) - i) + \" * \"\n",
    "    else:\n",
    "        label = label + str((bil+1) - i)\n",
    "\n",
    "print(f\"{bil}! adalah {hasil}\")\n",
    "print(f\"{label} = {hasil}\")"
   ]
  },
  {
   "cell_type": "code",
   "execution_count": 40,
   "id": "f69015cf",
   "metadata": {},
   "outputs": [
    {
     "name": "stdout",
     "output_type": "stream",
     "text": [
      "isikan bilangan: 5\n",
      "isikan pangkat: 4\n",
      "5 pangkat 4 adalah 625\n"
     ]
    }
   ],
   "source": [
    "# mencari pangkat\n",
    "\n",
    "bil    = int(input('isikan bilangan: '))\n",
    "pangkat= int(input('isikan pangkat: '))\n",
    "\n",
    "hasil = 1\n",
    "\n",
    "for i in range (1, pangkat+1):\n",
    "    hasil *= bil\n",
    "    \n",
    "print (f\"{bil} pangkat {pangkat} adalah {hasil}\")"
   ]
  },
  {
   "cell_type": "code",
   "execution_count": 42,
   "id": "81f26370",
   "metadata": {},
   "outputs": [
    {
     "name": "stdout",
     "output_type": "stream",
     "text": [
      "isikan  bilangan = 3\n",
      "3 adalah bilangan prima\n"
     ]
    }
   ],
   "source": [
    "#mengecek bilangan prima atau bukan \n",
    "#bilangan prima adalah bilangan yang habis di bagi 1 dan bilangan itu sendiri => 2 faktor\n",
    "\n",
    "bil  =int(input('isikan  bilangan = '))\n",
    "jumlah = 0\n",
    "for i in range (1, bil+1):\n",
    "    sisa = bil % i\n",
    "    if sisa == 0:\n",
    "        jumlah = jumlah + 1\n",
    "if jumlah == 2:\n",
    "    print(f\"{bil} adalah bilangan prima\")\n",
    "else :\n",
    "    print(f\"{bil} adalah bilangan bukan prima\")\n",
    "        "
   ]
  },
  {
   "cell_type": "code",
   "execution_count": 44,
   "id": "1fc81fd5",
   "metadata": {},
   "outputs": [
    {
     "name": "stdout",
     "output_type": "stream",
     "text": [
      "1 2 3 4 5 \n",
      "1 2 3 4 5 6 7 8 9 10 "
     ]
    }
   ],
   "source": [
    "#break & continue\n",
    "\n",
    "for i in range(1,11):\n",
    "    print (i, end= \" \")\n",
    "    if i == 5:\n",
    "        break\n",
    "print ()\n",
    "\n",
    "for j in range (1,11):\n",
    "    print (j,end =\" \")\n",
    "    if j == 5:\n",
    "        continue"
   ]
  },
  {
   "cell_type": "code",
   "execution_count": 47,
   "id": "755fd083",
   "metadata": {},
   "outputs": [
    {
     "name": "stdout",
     "output_type": "stream",
     "text": [
      "masukan kalimat = dasep sudarsoni\n",
      "jumlah huruf a: 2\n",
      "Jumlah huruf i:1\n",
      "Jumlah huruf u:1\n",
      "Jumlah huruf e:1\n",
      "Jumlah huruf o:1\n"
     ]
    }
   ],
   "source": [
    "#Looping untuk string,menghitung huruf vokal a=?, i=?, u=?....\n",
    "\n",
    "kalimat = input (\"masukan kalimat = \")\n",
    "vokal_a = 0\n",
    "vokal_i = 0\n",
    "vokal_u = 0\n",
    "vokal_e = 0\n",
    "vokal_o = 0\n",
    "\n",
    "for i in  kalimat :\n",
    "    if i==\"a\":\n",
    "        vokal_a += 1\n",
    "    elif i==\"i\":\n",
    "        vokal_i += 1\n",
    "    elif i==\"u\":\n",
    "        vokal_u += 1\n",
    "    elif i==\"e\":\n",
    "        vokal_e += 1\n",
    "    elif i==\"o\":\n",
    "        vokal_o += 1\n",
    "        \n",
    "print (f\"jumlah huruf a: {vokal_a}\\nJumlah huruf i:{vokal_i}\\nJumlah huruf u:{vokal_u}\\nJumlah huruf e:{vokal_e}\\nJumlah huruf o:{vokal_o}\")"
   ]
  },
  {
   "cell_type": "code",
   "execution_count": 51,
   "id": "22790d32",
   "metadata": {},
   "outputs": [
    {
     "name": "stdout",
     "output_type": "stream",
     "text": [
      "masukan kaliamat :ezra\n",
      "BUKAN PALINDROME\n"
     ]
    }
   ],
   "source": [
    "#kalimat palindrome atau bukan ?\n",
    "\n",
    "kalimat = input(\"masukan kaliamat :\")\n",
    "panjang = len(kalimat)\n",
    "keterangan = \"PALINDROME\"\n",
    "\n",
    "for i in range(0,panjang):\n",
    "    kika = kalimat [i]\n",
    "    kaki = kalimat [panjang - i-1]\n",
    "    if kika != kaki:\n",
    "        keterangan = \"BUKAN PALINDROME\"\n",
    "        break\n",
    "print (f\"{keterangan}\")\n",
    "ulang = iput"
   ]
  },
  {
   "cell_type": "code",
   "execution_count": null,
   "id": "d021194a",
   "metadata": {},
   "outputs": [],
   "source": []
  },
  {
   "cell_type": "code",
   "execution_count": null,
   "id": "8ebcebe9",
   "metadata": {},
   "outputs": [],
   "source": []
  }
 ],
 "metadata": {
  "kernelspec": {
   "display_name": "Python 3 (ipykernel)",
   "language": "python",
   "name": "python3"
  },
  "language_info": {
   "codemirror_mode": {
    "name": "ipython",
    "version": 3
   },
   "file_extension": ".py",
   "mimetype": "text/x-python",
   "name": "python",
   "nbconvert_exporter": "python",
   "pygments_lexer": "ipython3",
   "version": "3.9.12"
  }
 },
 "nbformat": 4,
 "nbformat_minor": 5
}
